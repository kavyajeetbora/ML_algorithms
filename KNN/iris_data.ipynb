{
 "cells": [
  {
   "cell_type": "code",
   "execution_count": 73,
   "metadata": {},
   "outputs": [],
   "source": [
    "import pandas as pd\n",
    "import numpy as np\n",
    "import matplotlib.pyplot as plt"
   ]
  },
  {
   "cell_type": "markdown",
   "metadata": {},
   "source": [
    "This is perhaps the best known database to be found in the pattern recognition literature. Fisher's paper is a classic in the field and is referenced frequently to this day. (See Duda & Hart, for example.) The data set contains 3 classes of 50 instances each, where each class refers to a type of iris plant. One class is linearly separable from the other 2; the latter are NOT linearly separable from each other. \n",
    "\n",
    "Predicted attribute: **class of iris plant. **\n",
    "\n",
    "More on K-Nearest Neighbourhood algoritm\n",
    "\n",
    "https://kevinzakka.github.io/2016/07/13/k-nearest-neighbor/"
   ]
  },
  {
   "cell_type": "code",
   "execution_count": 74,
   "metadata": {},
   "outputs": [
    {
     "data": {
      "text/html": [
       "<div>\n",
       "<style scoped>\n",
       "    .dataframe tbody tr th:only-of-type {\n",
       "        vertical-align: middle;\n",
       "    }\n",
       "\n",
       "    .dataframe tbody tr th {\n",
       "        vertical-align: top;\n",
       "    }\n",
       "\n",
       "    .dataframe thead th {\n",
       "        text-align: right;\n",
       "    }\n",
       "</style>\n",
       "<table border=\"1\" class=\"dataframe\">\n",
       "  <thead>\n",
       "    <tr style=\"text-align: right;\">\n",
       "      <th></th>\n",
       "      <th>sepal_length</th>\n",
       "      <th>sepal_width</th>\n",
       "      <th>petal_length</th>\n",
       "      <th>petal_width</th>\n",
       "      <th>class</th>\n",
       "    </tr>\n",
       "  </thead>\n",
       "  <tbody>\n",
       "    <tr>\n",
       "      <th>0</th>\n",
       "      <td>5.1</td>\n",
       "      <td>3.5</td>\n",
       "      <td>1.4</td>\n",
       "      <td>0.2</td>\n",
       "      <td>Iris-setosa</td>\n",
       "    </tr>\n",
       "    <tr>\n",
       "      <th>1</th>\n",
       "      <td>4.9</td>\n",
       "      <td>3.0</td>\n",
       "      <td>1.4</td>\n",
       "      <td>0.2</td>\n",
       "      <td>Iris-setosa</td>\n",
       "    </tr>\n",
       "    <tr>\n",
       "      <th>2</th>\n",
       "      <td>4.7</td>\n",
       "      <td>3.2</td>\n",
       "      <td>1.3</td>\n",
       "      <td>0.2</td>\n",
       "      <td>Iris-setosa</td>\n",
       "    </tr>\n",
       "    <tr>\n",
       "      <th>3</th>\n",
       "      <td>4.6</td>\n",
       "      <td>3.1</td>\n",
       "      <td>1.5</td>\n",
       "      <td>0.2</td>\n",
       "      <td>Iris-setosa</td>\n",
       "    </tr>\n",
       "    <tr>\n",
       "      <th>4</th>\n",
       "      <td>5.0</td>\n",
       "      <td>3.6</td>\n",
       "      <td>1.4</td>\n",
       "      <td>0.2</td>\n",
       "      <td>Iris-setosa</td>\n",
       "    </tr>\n",
       "  </tbody>\n",
       "</table>\n",
       "</div>"
      ],
      "text/plain": [
       "   sepal_length  sepal_width  petal_length  petal_width        class\n",
       "0           5.1          3.5           1.4          0.2  Iris-setosa\n",
       "1           4.9          3.0           1.4          0.2  Iris-setosa\n",
       "2           4.7          3.2           1.3          0.2  Iris-setosa\n",
       "3           4.6          3.1           1.5          0.2  Iris-setosa\n",
       "4           5.0          3.6           1.4          0.2  Iris-setosa"
      ]
     },
     "execution_count": 74,
     "metadata": {},
     "output_type": "execute_result"
    }
   ],
   "source": [
    "data = pd.read_csv('iris_data.csv')\n",
    "data.head()"
   ]
  },
  {
   "cell_type": "code",
   "execution_count": 75,
   "metadata": {},
   "outputs": [
    {
     "data": {
      "text/plain": [
       "array(['Iris-setosa', 'Iris-versicolor', 'Iris-virginica'], dtype=object)"
      ]
     },
     "execution_count": 75,
     "metadata": {},
     "output_type": "execute_result"
    }
   ],
   "source": [
    "# types of class\n",
    "data['class'].unique()"
   ]
  },
  {
   "cell_type": "code",
   "execution_count": 76,
   "metadata": {},
   "outputs": [
    {
     "data": {
      "text/plain": [
       "Text(0,0.5,'Petal Width in cm')"
      ]
     },
     "execution_count": 76,
     "metadata": {},
     "output_type": "execute_result"
    },
    {
     "data": {
      "image/png": "[encoded data removed]",
      "text/plain": [
       "<Figure size 720x360 with 2 Axes>"
      ]
     },
     "metadata": {},
     "output_type": "display_data"
    }
   ],
   "source": [
    "# visualization\n",
    "setosa = data[data['class']=='Iris-setosa']\n",
    "versicolor = data[data['class']=='Iris-versicolor']\n",
    "virginica = data[data['class']=='Iris-virginica']\n",
    "\n",
    "fig = plt.figure(figsize=(10,5))\n",
    "\n",
    "ax1 = plt.subplot(121)\n",
    "ax1.scatter(setosa['sepal_length'],setosa['sepal_width'],label='setosa')\n",
    "ax1.scatter(versicolor['sepal_length'],versicolor['sepal_width'],label='versicolor')\n",
    "ax1.scatter(virginica['sepal_length'],virginica['sepal_width'],label='virginica')\n",
    "ax1.legend()\n",
    "ax1.set_xlabel('Sepal Length in cm')\n",
    "ax1.set_ylabel('Sepal Width in cm')\n",
    "\n",
    "ax1 = plt.subplot(122)\n",
    "ax1.scatter(setosa['petal_length'],setosa['petal_width'],label='setosa')\n",
    "ax1.scatter(versicolor['petal_length'],versicolor['petal_width'],label='versicolor')\n",
    "ax1.scatter(virginica['petal_length'],virginica['petal_width'],label='virginica')\n",
    "ax1.legend()\n",
    "ax1.set_xlabel('Petal Length in cm')\n",
    "ax1.set_ylabel('Petal Width in cm')"
   ]
  },
  {
   "cell_type": "markdown",
   "metadata": {},
   "source": [
    "Intuitive model -\n",
    "- setosa has greater sepal width and smaller sepal length. Also sepal has lowest petal width and length\n",
    "- Vericolor has medium size petals.\n",
    "- Virginica has the largest petal size."
   ]
  },
  {
   "cell_type": "markdown",
   "metadata": {},
   "source": [
    "Modelling\n",
    "---"
   ]
  },
  {
   "cell_type": "code",
   "execution_count": 77,
   "metadata": {},
   "outputs": [],
   "source": [
    "# extracting the variables\n",
    "X = np.array(data.iloc[:,0:-1]).reshape(-1,4)\n",
    "Y = np.array(data.iloc[:,-1])\n",
    "\n",
    "# splitting the dataset\n",
    "from sklearn.model_selection import train_test_split\n",
    "X_train,X_test,Y_train,Y_test = train_test_split(X,Y,test_size=0.33,random_state=0)"
   ]
  },
  {
   "cell_type": "code",
   "execution_count": 82,
   "metadata": {},
   "outputs": [
    {
     "data": {
      "text/plain": [
       "KNeighborsClassifier(algorithm='auto', leaf_size=30, metric='minkowski',\n",
       "           metric_params=None, n_jobs=1, n_neighbors=3, p=2,\n",
       "           weights='uniform')"
      ]
     },
     "execution_count": 82,
     "metadata": {},
     "output_type": "execute_result"
    }
   ],
   "source": [
    "from sklearn.neighbors import KNeighborsClassifier\n",
    "classifier = KNeighborsClassifier(n_neighbors=3,metric='minkowski',p=2)\n",
    "classifier.fit(X_train,Y_train)"
   ]
  },
  {
   "cell_type": "code",
   "execution_count": 83,
   "metadata": {},
   "outputs": [],
   "source": [
    "Y_pred = classifier.predict(X_test)"
   ]
  },
  {
   "cell_type": "code",
   "execution_count": 84,
   "metadata": {},
   "outputs": [
    {
     "data": {
      "text/plain": [
       "96.0"
      ]
     },
     "execution_count": 84,
     "metadata": {},
     "output_type": "execute_result"
    }
   ],
   "source": [
    "# Evaluation\n",
    "from sklearn.metrics import confusion_matrix\n",
    "c = confusion_matrix(Y_pred,Y_test)\n",
    "correct = sum(c.diagonal())\n",
    "total = sum(sum(c))\n",
    "correct/total*100"
   ]
  },
  {
   "cell_type": "markdown",
   "metadata": {},
   "source": [
    "Parameter Tuning with Cross Validation\n",
    "---"
   ]
  },
  {
   "cell_type": "markdown",
   "metadata": {},
   "source": [
    " so let’s suppose we carry out repeated measurements of the test error for different values of K, it means that we are using the same test set to see the error repeatedly. Hence our test set becomes our new training set for evaluating the model. In other words for our model the fitted parameters will be based on the **same training set**  and the evaluation will be based on the **same test set**. Hence our model will not be good for predicting a entirely new dataset (**Overfitting**)"
   ]
  },
  {
   "cell_type": "markdown",
   "metadata": {},
   "source": [
    "Using the test set for hyperparameter tuning can lead to overfitting."
   ]
  },
  {
   "cell_type": "markdown",
   "metadata": {},
   "source": [
    "K-Fold validation algorithm\n",
    "----\n",
    "\n",
    "1. An alternative and smarter approach involves estimating the test error rate by holding out a subset of the training set from the fitting process.\n",
    "2.  This subset, called the validation set, can be used to select the appropriate level of flexibility of our algorithm! There are different validation approaches that are used in practice, and we will be exploring one of the more popular ones called k-fold cross validation\n",
    "3. k-fold cross validation involves randomly dividing the training set into k groups of approximately equal size\n",
    "4. The first fold is treated as a validation set, and the method is fit on the remaining k−1 folds\n",
    "5. The misclassification rate is then computed on the observations in the held-out fold\n",
    "6. This procedure is repeated k times; each time, a different group of observations is treated as a validation set. This process results in k estimates of the test error which are then averaged out"
   ]
  },
  {
   "cell_type": "markdown",
   "metadata": {},
   "source": [
    "data = [0.1, 0.2, 0.3, 0.4, 0.5, 0.6]\n",
    "\n",
    "-> taking k=3 it means it will make 3 groups and model using one training and one test set k=3 times \n",
    "\n",
    "- Fold1: [0.5, 0.2]\n",
    "- Fold2: [0.1, 0.3]\n",
    "- Fold3: [0.4, 0.6]\n",
    "\n",
    "\n",
    "**Model1: Trained on Fold1 + Fold2, Tested on Fold3**\n",
    "\n",
    "**Model2: Trained on Fold2 + Fold3, Tested on Fold1**\n",
    "\n",
    "**Model3: Trained on Fold1 + Fold3, Tested on Fold2**"
   ]
  },
  {
   "cell_type": "code",
   "execution_count": 97,
   "metadata": {},
   "outputs": [
    {
     "name": "stdout",
     "output_type": "stream",
     "text": [
      "train = [1 2 4 6 7 8] | test = [3 5 9 0]\n",
      "train = [1 3 4 5 6 9 0] | test = [2 7 8]\n",
      "train = [2 3 5 7 8 9 0] | test = [1 4 6]\n"
     ]
    }
   ],
   "source": [
    "# one example\n",
    "data = np.array([1,2,3,4,5,6,7,8,9,0])\n",
    "\n",
    "# create the folds using kFold function from sklearn\n",
    "from sklearn.model_selection import KFold\n",
    "kfold = KFold(n_splits = 3, shuffle=True, random_state=0) # with shuffling without replacement\n",
    "for train, test in kfold.split(data):\n",
    "    print('train = %s | test = %s' % (data[train],data[test]))"
   ]
  },
  {
   "cell_type": "markdown",
   "metadata": {},
   "source": [
    "further study: https://machinelearningmastery.com/k-fold-cross-validation/"
   ]
  },
  {
   "cell_type": "markdown",
   "metadata": {},
   "source": [
    "here are a number of variations on the k-fold cross validation procedure.\n",
    "\n",
    "Three commonly used variations are as follows:\n",
    "\n",
    "- Train/Test Split: Taken to one extreme, k may be set to 1 such that a single train/test split is created to evaluate the model.\n",
    "- LOOCV: Taken to another extreme, k may be set to the total number of observations in the dataset such that each observation is given a chance to be the held out of the dataset. This is called leave-one-out cross-validation, or LOOCV for short.\n",
    "- Stratified: The splitting of data into folds may be governed by criteria such as ensuring that each fold has the same proportion of observations with a given categorical value, such as the class outcome value. This is called stratified cross-validation.\n",
    "- Repeated: This is where the k-fold cross-validation procedure is repeated n times, where importantly, the data sample is shuffled prior to each repetition, which results in a different split of the sample.\n",
    "\n",
    "The scikit-learn library provides a suite of cross-validation implementation. You can see the full list in the Model Selection API"
   ]
  },
  {
   "cell_type": "code",
   "execution_count": 87,
   "metadata": {},
   "outputs": [
    {
     "data": {
      "text/plain": [
       "7"
      ]
     },
     "execution_count": 87,
     "metadata": {},
     "output_type": "execute_result"
    },
    {
     "data": {
      "image/png": "[encoded data removed]",
      "text/plain": [
       "<Figure size 1080x720 with 1 Axes>"
      ]
     },
     "metadata": {},
     "output_type": "display_data"
    }
   ],
   "source": [
    "# 10-fold cross-validation for odd K value (KNN) in the range of 50\n",
    "K = list(range(1,50))\n",
    "neighbors = [x for x in K]\n",
    "cv_scores = []\n",
    "\n",
    "fig = plt.figure(figsize=(15,10))\n",
    "\n",
    "from sklearn.model_selection import cross_val_score\n",
    "for k in neighbors:\n",
    "    model = KNeighborsClassifier(n_neighbors=k,metric='minkowski',p=2)\n",
    "    score = cross_val_score(model,X_train,Y_train,cv=10,scoring='accuracy')\n",
    "    cv_scores.append(1-np.mean(score))\n",
    "    \n",
    "## visualization of cv_scores\n",
    "plt.plot(neighbors,cv_scores)\n",
    "plt.xlabel('Number of Neighbours')\n",
    "plt.ylabel('CV Error')\n",
    "plt.title('Error on estimating the cross-validation (CV) set')\n",
    "# K (KNN) value with minimum cross-validation error\n",
    "neighbors[cv_scores.index(min(cv_scores))]"
   ]
  },
  {
   "cell_type": "code",
   "execution_count": 85,
   "metadata": {},
   "outputs": [
    {
     "data": {
      "text/plain": [
       "98.0"
      ]
     },
     "execution_count": 85,
     "metadata": {},
     "output_type": "execute_result"
    }
   ],
   "source": [
    "from sklearn.neighbors import KNeighborsClassifier\n",
    "classifier = KNeighborsClassifier(n_neighbors=7,metric='minkowski',p=2)\n",
    "classifier.fit(X_train,Y_train)\n",
    "# prediction\n",
    "Y_pred = classifier.predict(X_test)\n",
    "# Evaluation\n",
    "from sklearn.metrics import confusion_matrix\n",
    "c = confusion_matrix(Y_pred,Y_test)\n",
    "correct = sum(c.diagonal())\n",
    "total = sum(sum(c))\n",
    "correct/total*100"
   ]
  },
  {
   "cell_type": "markdown",
   "metadata": {},
   "source": [
    "Now we are getting a more accuarate model than the model with K=3 with 96 % accuracy"
   ]
  }
 ],
 "metadata": {
  "kernelspec": {
   "display_name": "Python 3",
   "language": "python",
   "name": "python3"
  },
  "language_info": {
   "codemirror_mode": {
    "name": "ipython",
    "version": 3
   },
   "file_extension": ".py",
   "mimetype": "text/x-python",
   "name": "python",
   "nbconvert_exporter": "python",
   "pygments_lexer": "ipython3",
   "version": "3.6.5"
  }
 },
 "nbformat": 4,
 "nbformat_minor": 2
}
