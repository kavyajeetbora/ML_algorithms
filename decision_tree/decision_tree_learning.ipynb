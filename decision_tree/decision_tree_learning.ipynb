{
  "cells": [
    {
      "metadata": {
        "_uuid": "8f2839f25d086af736a60e9eeb907d3b93b6e0e5",
        "_cell_guid": "b1076dfc-b9ad-4769-8c92-a6c4dae69d19",
        "trusted": true
      },
      "cell_type": "code",
      "source": "import numpy as np # linear algebra\nimport pandas as pd # data processing, CSV file I/O (e.g. pd.read_csv)",
      "execution_count": 76,
      "outputs": []
    },
    {
      "metadata": {
        "trusted": true,
        "_uuid": "e517e27676d64de81745d403a530533fb633ce36"
      },
      "cell_type": "code",
      "source": "d = {'color': ['Green','Yellow','Red','Red','Yellow'], 'diameter': [3,3,1,1,3],'label':['Apple','Apple','Grape','Grape','Lemon']}\ndata=pd.DataFrame(d)\ndata.head()",
      "execution_count": 13,
      "outputs": [
        {
          "output_type": "execute_result",
          "execution_count": 13,
          "data": {
            "text/plain": "    color  diameter  label\n0   Green         3  Apple\n1  Yellow         3  Apple\n2     Red         1  Grape\n3     Red         1  Grape\n4  Yellow         3  Lemon",
            "text/html": "<div>\n<style scoped>\n    .dataframe tbody tr th:only-of-type {\n        vertical-align: middle;\n    }\n\n    .dataframe tbody tr th {\n        vertical-align: top;\n    }\n\n    .dataframe thead th {\n        text-align: right;\n    }\n</style>\n<table border=\"1\" class=\"dataframe\">\n  <thead>\n    <tr style=\"text-align: right;\">\n      <th></th>\n      <th>color</th>\n      <th>diameter</th>\n      <th>label</th>\n    </tr>\n  </thead>\n  <tbody>\n    <tr>\n      <th>0</th>\n      <td>Green</td>\n      <td>3</td>\n      <td>Apple</td>\n    </tr>\n    <tr>\n      <th>1</th>\n      <td>Yellow</td>\n      <td>3</td>\n      <td>Apple</td>\n    </tr>\n    <tr>\n      <th>2</th>\n      <td>Red</td>\n      <td>1</td>\n      <td>Grape</td>\n    </tr>\n    <tr>\n      <th>3</th>\n      <td>Red</td>\n      <td>1</td>\n      <td>Grape</td>\n    </tr>\n    <tr>\n      <th>4</th>\n      <td>Yellow</td>\n      <td>3</td>\n      <td>Lemon</td>\n    </tr>\n  </tbody>\n</table>\n</div>"
          },
          "metadata": {}
        }
      ]
    },
    {
      "metadata": {
        "_uuid": "57959506060c8026ff1e7fe524cca78693d3429f"
      },
      "cell_type": "markdown",
      "source": "**decision tree learning**\n\n**What are the best questions to ask and when ? **\n\nsuch that the dataset is splitted into two purest sets (homogeneous sets). The impurity is measured using the \"gini impurity\". "
    },
    {
      "metadata": {
        "trusted": true,
        "_uuid": "ce1ba67d7847e02418ae5b5f45e8df62820110cd"
      },
      "cell_type": "code",
      "source": "# to find the gini impurity value for a given dataset (dataframe)\n# function below takes a dataframe and the feature on which it will calculate the homogenity of the sets. \ndef gini_impurity(df,key):\n    data1 = df.copy()\n    values = data1[key].unique() # find all the unique labels\n    n = len(data1)\n    prob = [] # to store the occurence of each label in the sets\n    for value in values:\n        freq = len(data1[data1[key]==value])\n        prob.append(freq/n)\n    # calculate the gini impurity\n    gini = 1- sum([x**2 for x in prob]) # calculate the gini impurity value\n    return gini\n\n# checking the gini impurity for the whole dataset\ninitial_gini = gini_impurity(data,key='label')\ninitial_gini ",
      "execution_count": 66,
      "outputs": [
        {
          "output_type": "execute_result",
          "execution_count": 66,
          "data": {
            "text/plain": "0.6399999999999999"
          },
          "metadata": {}
        }
      ]
    },
    {
      "metadata": {
        "_uuid": "ebc0117d170cfa421fdf3f0bc7191e409c28014d"
      },
      "cell_type": "markdown",
      "source": "the **gini impurity** is explained very well in the **references** mentioned below. "
    },
    {
      "metadata": {
        "trusted": true,
        "_uuid": "7ff3bbbd697cc28f1c7eae966134b58e3ff39f3c"
      },
      "cell_type": "code",
      "source": "features = data.columns[0:-1] # store each features\n# find unique values in each features\nx1 = data['color'].unique()\nx2 = data['diameter'].unique()\n# total questions \n'number of questions that can be asked ? =', len(x1)+len(x2)",
      "execution_count": 78,
      "outputs": [
        {
          "output_type": "execute_result",
          "execution_count": 78,
          "data": {
            "text/plain": "('number of questions that can be asked ? =', 5)"
          },
          "metadata": {}
        }
      ]
    },
    {
      "metadata": {
        "_uuid": "1283dfd120c7cacd1acdd84ce2ad03465a4a5d47"
      },
      "cell_type": "markdown",
      "source": "Now for each questions we will determine the information gained and choose the question which has highest information gain\n\n![](https://cdn-images-1.medium.com/max/800/1*CwxzgTTzoI45hXK6mflFiA.jpeg) \nsource: medium.com"
    },
    {
      "metadata": {
        "_uuid": "140594d216ed138ab05bd76c9ba2e9306db00c9f"
      },
      "cell_type": "markdown",
      "source": "Procedure \n1. First split the data on the basis of each questions \n2. for each split calculate the gini index \n3. then calculate the information gained as shown in the figure above.\n\ncode written below will go step by step - "
    },
    {
      "metadata": {
        "trusted": true,
        "_uuid": "68223c4079d5bd5516d6dc8f480e8798fca6da59"
      },
      "cell_type": "code",
      "source": "# splitting the dataframes based on each question\nfor feature in features:\n    values = data[feature].unique()\n    for value in values:\n        print(\"--------------split1--------------\")\n        print(data[data[feature]==value])\n        print(\"--------------split2--------------\")\n        print(data[data[feature]!=value])\n        \n        print(\"=================================\")\n        print(\"\")",
      "execution_count": 35,
      "outputs": [
        {
          "output_type": "stream",
          "text": "--------------split1--------------\n   color  diameter  label\n0  Green         3  Apple\n--------------split2--------------\n    color  diameter  label\n1  Yellow         3  Apple\n2     Red         1  Grape\n3     Red         1  Grape\n4  Yellow         3  Lemon\n=================================\n\n--------------split1--------------\n    color  diameter  label\n1  Yellow         3  Apple\n4  Yellow         3  Lemon\n--------------split2--------------\n   color  diameter  label\n0  Green         3  Apple\n2    Red         1  Grape\n3    Red         1  Grape\n=================================\n\n--------------split1--------------\n  color  diameter  label\n2   Red         1  Grape\n3   Red         1  Grape\n--------------split2--------------\n    color  diameter  label\n0   Green         3  Apple\n1  Yellow         3  Apple\n4  Yellow         3  Lemon\n=================================\n\n--------------split1--------------\n    color  diameter  label\n0   Green         3  Apple\n1  Yellow         3  Apple\n4  Yellow         3  Lemon\n--------------split2--------------\n  color  diameter  label\n2   Red         1  Grape\n3   Red         1  Grape\n=================================\n\n--------------split1--------------\n  color  diameter  label\n2   Red         1  Grape\n3   Red         1  Grape\n--------------split2--------------\n    color  diameter  label\n0   Green         3  Apple\n1  Yellow         3  Apple\n4  Yellow         3  Lemon\n=================================\n\n",
          "name": "stdout"
        }
      ]
    },
    {
      "metadata": {
        "_uuid": "08a8ef8be24e67b05deec9e15c4f42e695f199c0"
      },
      "cell_type": "markdown",
      "source": "Showing the split for each question asked.\n\nNow for each question we follow the step 2 & 3 "
    },
    {
      "metadata": {
        "trusted": true,
        "scrolled": true,
        "_uuid": "b62147866cb9f2e78c1ff7c16bf3112eb7f4dfad"
      },
      "cell_type": "code",
      "source": "# splitting the dataframes based on each question\nN = len(data)\nfor feature in features:\n    values = data[feature].unique()\n    for value in values:\n        split1 = data[data[feature]==value]\n        split2 = data[data[feature]!=value]\n        # evaluating the gini for each split\n        gini1 = gini_impurity(split1,key='label')\n        gini2 = gini_impurity(split2,key='label')\n        # calculating the information gained for the split\n        information_gained = initial_gini -  (gini1*len(split1)/N + gini2*len(split2)/N)\n        print(feature,'=',value,'| information_gained = ',information_gained)",
      "execution_count": 75,
      "outputs": [
        {
          "output_type": "stream",
          "text": "color = Green | information_gained =  0.1399999999999999\ncolor = Yellow | information_gained =  0.17333333333333323\ncolor = Red | information_gained =  0.37333333333333324\ndiameter = 3 | information_gained =  0.37333333333333324\ndiameter = 1 | information_gained =  0.37333333333333324\n",
          "name": "stdout"
        }
      ]
    },
    {
      "metadata": {
        "_uuid": "3f1ee0d722378ea5165df7ea6a681303be32d9bc"
      },
      "cell_type": "markdown",
      "source": "From the above splits, we can see the infomation gained for each and we can choose the split with the highest information gained. here there are 3 similar values, we can choose any at random and further continue the process till we get gini impurity 0.\n\nThis is how the CART algorithm works. It divides the dataset into two at every node where the information gained is highest. And further works till the gini impurity of the split is zero. \n\n**References** - \n1. https://medium.com/x8-the-ai-community/decision-trees-an-intuitive-introduction-86c2b39c1a6c\n2. https://www.youtube.com/watch?v=LDRbO9a6XPU"
    },
    {
      "metadata": {
        "_uuid": "f56efd32d35cf316f1f9465f8bdd2e37b796a8b9"
      },
      "cell_type": "markdown",
      "source": ""
    }
  ],
  "metadata": {
    "kernelspec": {
      "display_name": "Python 3",
      "language": "python",
      "name": "python3"
    },
    "language_info": {
      "name": "python",
      "version": "3.6.6",
      "mimetype": "text/x-python",
      "codemirror_mode": {
        "name": "ipython",
        "version": 3
      },
      "pygments_lexer": "ipython3",
      "nbconvert_exporter": "python",
      "file_extension": ".py"
    }
  },
  "nbformat": 4,
  "nbformat_minor": 1
}