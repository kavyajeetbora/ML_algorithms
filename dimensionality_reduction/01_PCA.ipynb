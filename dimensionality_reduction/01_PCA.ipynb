{
  "nbformat": 4,
  "nbformat_minor": 0,
  "metadata": {
    "colab": {
      "provenance": [],
      "authorship_tag": "ABX9TyMLuoOG9RmC6ZFLHy1xG8m6",
      "include_colab_link": true
    },
    "kernelspec": {
      "name": "python3",
      "display_name": "Python 3"
    },
    "language_info": {
      "name": "python"
    }
  },
  "cells": [
    {
      "cell_type": "markdown",
      "metadata": {
        "id": "view-in-github",
        "colab_type": "text"
      },
      "source": [
        "<a href=\"https://colab.research.google.com/github/kavyajeetbora/ML_algorithms/blob/master/dimensionality_reduction/01_PCA.ipynb\" target=\"_parent\"><img src=\"https://colab.research.google.com/assets/colab-badge.svg\" alt=\"Open In Colab\"/></a>"
      ]
    },
    {
      "cell_type": "markdown",
      "source": [
        "# Principal Component Analysis (PCA)\n",
        "\n",
        "## Overview\n",
        "Principal Component Analysis (PCA) is an unsupervised machine learning algorithm used to reduce the dimensionality of a dataset while preserving as much variance as possible.\n",
        "\n",
        "## Basic Intuition\n",
        "\n",
        "| Image 1 | Image 2 |\n",
        "|---------|---------|\n",
        "| <img src=\"https://miro.medium.com/v2/resize:fit:750/format:webp/1*-xX-OqEp-Z5G6SESmtc_GQ.png\" height=\"300\"/> | <img src=\"https://miro.medium.com/v2/resize:fit:786/format:webp/1*X-tocO_nlFiq3xl7tX4ffg.png\" height=\"300\"/> |\n",
        "\n",
        "Principal Component Analysis (PCA) reduces the number of features in a dataset while retaining the majority of its variance to simplify the model and improve interpretability.\n",
        "\n",
        "## Benefits\n",
        "- **Avoiding the Curse of Dimensionality**: Reducing the number of features helps in mitigating overfitting and improving the performance of machine learning models.\n",
        "- **Visualization**: PCA is useful for visualizing high-dimensional data in 2 or 3 dimensions.\n",
        "\n",
        "## How PCA Works\n",
        "\n",
        "1. **Standardization**: Standardize the dataset to have a mean of zero and a standard deviation of one for each feature.\n",
        "\n",
        "2. **Covariance Matrix**: Compute the covariance matrix to understand how the features vary with respect to each other.\n",
        "\n",
        "3. **Optimizing Principal Components**:\n",
        "   - **Sum of Squares**: Draw an arbitrary line in the space and project all data points onto it, then measure the sum of squared distances of these projected points from the center.\n",
        "   - **Maximization**: Repeat this process to draw the principal component in various orientations to maximize the sum of squared distances of the projected points on the plane.\n",
        "   - **Principal Components**: After finding the optimal orientation, the principal component is determined. Repeat for different axes (perpendicular ones).\n",
        "\n",
        "    <img src=\"https://miro.medium.com/v2/resize:fit:828/format:webp/1*37a_i1t1tDxDYT3ZI6Yn8w.gif\" height=300/>\n",
        "\n",
        "    *Given a 2D dataset, we want to calculate the principal component, which is the line that maximizes the sum of squared distances of the projected points from the origin.*\n",
        "\n",
        "4. **Eigenvectors and Eigenvalues**:\n",
        "   - **Eigenvectors (Principal Components)**: These are the directions in which the data varies the most.\n",
        "   - **Eigenvalues**: These represent the magnitude of variance in the direction of their corresponding eigenvectors.\n",
        "\n",
        "5. **Selecting Principal Components**:\n",
        "   - **Variance Explanation**: Choose the top \\(k\\) principal components that explain the most variance. For example, if the eigenvalues are \\(70\\%, 20\\%, 7\\%, 3\\%\\), the first two principal components explain \\(90\\%\\) of the variance.\n",
        "   - **Projection**: Project the original data onto the selected principal components to obtain the reduced-dimensional dataset.\n",
        "\n",
        "## Clarifications\n",
        "\n",
        "- **Eigenvectors Calculation**: Eigenvectors are not calculated for each data point separately. They are derived from the covariance matrix of the entire dataset.\n",
        "- **Eigenvalues**: These are not the average of the sum of squares of distances but rather the variances explained by the principal components.\n",
        "\n",
        "## Example Scenario\n",
        "\n",
        "- **Eigenvalues Composition**: If the eigenvalues are \\(70\\%, 20\\%, 7\\%, 3\\%\\), the first principal component explains \\(70\\%\\) of the variance, and the second explains \\(20\\%\\). Using the first two principal components would explain \\(90\\%\\) of the total variance, making it a good approximation.\n",
        "\n",
        "- **Equal Distribution**: If the eigenvalues are evenly distributed, it suggests that all features contribute equally to the variance, and dimensionality reduction might not be as effective.\n",
        "\n",
        "## Summary\n",
        "Principal Component Analysis (PCA) reduces the number of features in a dataset while retaining the majority of its variance by optimizing the sum of squared distances of data points projected onto principal components, simplifying the model and improving interpretability.\n",
        "\n",
        "## References\n",
        "\n",
        "1. [StatQuest video on PCA](https://youtu.be/FgakZw6K1QQ?si=HlSDBP9WeSo0m60g)\n",
        "2. [Visuals of PCA taken from this article](https://hrithickcodes.medium.com/understanding-principle-component-analysis-pca-from-scratch-db7ceda623eb)"
      ],
      "metadata": {
        "id": "qmD7S_dLYhdY"
      }
    },
    {
      "cell_type": "markdown",
      "source": [
        "## Application of PCA\n",
        "\n",
        "- In this example we will see how we can compress the data into less features and achieve same level of accuracy when training each dataset for a classification task\n",
        "\n",
        "Image data compression using PCA"
      ],
      "metadata": {
        "id": "drfxdMO0ecr5"
      }
    },
    {
      "cell_type": "code",
      "execution_count": 44,
      "metadata": {
        "id": "_4ut5xsZYfkI"
      },
      "outputs": [],
      "source": [
        "import pandas as pd\n",
        "from sklearn.datasets import load_digits\n",
        "import matplotlib.pyplot as plt\n",
        "from sklearn.model_selection import train_test_split\n",
        "from sklearn.preprocessing import StandardScaler\n",
        "from sklearn.linear_model import LogisticRegression\n",
        "from sklearn.decomposition import PCA"
      ]
    },
    {
      "cell_type": "code",
      "source": [
        "dataset=load_digits()\n",
        "dataset.keys()"
      ],
      "metadata": {
        "colab": {
          "base_uri": "https://localhost:8080/"
        },
        "id": "OOK-61O8e83M",
        "outputId": "846d2ef8-5590-4e48-957a-41bc26605c6b"
      },
      "execution_count": 2,
      "outputs": [
        {
          "output_type": "execute_result",
          "data": {
            "text/plain": [
              "dict_keys(['data', 'target', 'frame', 'feature_names', 'target_names', 'images', 'DESCR'])"
            ]
          },
          "metadata": {},
          "execution_count": 2
        }
      ]
    },
    {
      "cell_type": "code",
      "source": [
        "dataset.data.shape"
      ],
      "metadata": {
        "colab": {
          "base_uri": "https://localhost:8080/"
        },
        "id": "0ERCz17tfDKR",
        "outputId": "ec546e53-83af-478c-e56b-e0c1ce559f24"
      },
      "execution_count": 6,
      "outputs": [
        {
          "output_type": "execute_result",
          "data": {
            "text/plain": [
              "(1797, 64)"
            ]
          },
          "metadata": {},
          "execution_count": 6
        }
      ]
    },
    {
      "cell_type": "code",
      "source": [
        "plt.gray()\n",
        "plt.matshow(dataset.data[0].reshape(8,8))\n",
        "plt.title(f\"Target Label:{dataset.target[0]}\")\n",
        "plt.show()"
      ],
      "metadata": {
        "colab": {
          "base_uri": "https://localhost:8080/",
          "height": 476
        },
        "id": "tCGO25CgfKiQ",
        "outputId": "519271e6-a7ff-44bc-d2ce-416c8f9b4e5f"
      },
      "execution_count": 21,
      "outputs": [
        {
          "output_type": "display_data",
          "data": {
            "text/plain": [
              "<Figure size 640x480 with 0 Axes>"
            ]
          },
          "metadata": {}
        },
        {
          "output_type": "display_data",
          "data": {
            "text/plain": [
              "<Figure size 480x480 with 1 Axes>"
            ],
            "image/png": "[encoded data removed]"
          },
          "metadata": {}
        }
      ]
    },
    {
      "cell_type": "markdown",
      "source": [
        "## Creating the training dataset"
      ],
      "metadata": {
        "id": "reoWOEdNff99"
      }
    },
    {
      "cell_type": "code",
      "source": [
        "df = pd.DataFrame(dataset.data, columns=dataset.feature_names)\n",
        "df.sample(3)"
      ],
      "metadata": {
        "colab": {
          "base_uri": "https://localhost:8080/",
          "height": 192
        },
        "id": "XE3XjIUoflcq",
        "outputId": "fdaf8bbb-ca6e-4d4b-b018-8f9dbbe86be1"
      },
      "execution_count": 23,
      "outputs": [
        {
          "output_type": "execute_result",
          "data": {
            "text/plain": [
              "      pixel_0_0  pixel_0_1  pixel_0_2  pixel_0_3  pixel_0_4  pixel_0_5  \\\n",
              "314         0.0        0.0        3.0       12.0        3.0        0.0   \n",
              "814         0.0        0.0        2.0       12.0       14.0        8.0   \n",
              "1704        0.0        0.0       12.0       16.0       14.0        8.0   \n",
              "\n",
              "      pixel_0_6  pixel_0_7  pixel_1_0  pixel_1_1  ...  pixel_6_6  pixel_6_7  \\\n",
              "314         0.0        0.0        0.0        0.0  ...       12.0        0.0   \n",
              "814         0.0        0.0        0.0        0.0  ...        4.0        0.0   \n",
              "1704        0.0        0.0        0.0        7.0  ...        1.0        0.0   \n",
              "\n",
              "      pixel_7_0  pixel_7_1  pixel_7_2  pixel_7_3  pixel_7_4  pixel_7_5  \\\n",
              "314         0.0        0.0        2.0       13.0       16.0       14.0   \n",
              "814         0.0        0.0        1.0       12.0       16.0       11.0   \n",
              "1704        0.0        1.0        9.0       16.0       14.0        3.0   \n",
              "\n",
              "      pixel_7_6  pixel_7_7  \n",
              "314         4.0        0.0  \n",
              "814         0.0        0.0  \n",
              "1704        0.0        0.0  \n",
              "\n",
              "[3 rows x 64 columns]"
            ],
            "text/html": [
              "\n",
              "  <div id=\"df-7f845f24-424b-494c-b084-7ea4565dfc62\" class=\"colab-df-container\">\n",
              "    <div>\n",
              "<style scoped>\n",
              "    .dataframe tbody tr th:only-of-type {\n",
              "        vertical-align: middle;\n",
              "    }\n",
              "\n",
              "    .dataframe tbody tr th {\n",
              "        vertical-align: top;\n",
              "    }\n",
              "\n",
              "    .dataframe thead th {\n",
              "        text-align: right;\n",
              "    }\n",
              "</style>\n",
              "<table border=\"1\" class=\"dataframe\">\n",
              "  <thead>\n",
              "    <tr style=\"text-align: right;\">\n",
              "      <th></th>\n",
              "      <th>pixel_0_0</th>\n",
              "      <th>pixel_0_1</th>\n",
              "      <th>pixel_0_2</th>\n",
              "      <th>pixel_0_3</th>\n",
              "      <th>pixel_0_4</th>\n",
              "      <th>pixel_0_5</th>\n",
              "      <th>pixel_0_6</th>\n",
              "      <th>pixel_0_7</th>\n",
              "      <th>pixel_1_0</th>\n",
              "      <th>pixel_1_1</th>\n",
              "      <th>...</th>\n",
              "      <th>pixel_6_6</th>\n",
              "      <th>pixel_6_7</th>\n",
              "      <th>pixel_7_0</th>\n",
              "      <th>pixel_7_1</th>\n",
              "      <th>pixel_7_2</th>\n",
              "      <th>pixel_7_3</th>\n",
              "      <th>pixel_7_4</th>\n",
              "      <th>pixel_7_5</th>\n",
              "      <th>pixel_7_6</th>\n",
              "      <th>pixel_7_7</th>\n",
              "    </tr>\n",
              "  </thead>\n",
              "  <tbody>\n",
              "    <tr>\n",
              "      <th>314</th>\n",
              "      <td>0.0</td>\n",
              "      <td>0.0</td>\n",
              "      <td>3.0</td>\n",
              "      <td>12.0</td>\n",
              "      <td>3.0</td>\n",
              "      <td>0.0</td>\n",
              "      <td>0.0</td>\n",
              "      <td>0.0</td>\n",
              "      <td>0.0</td>\n",
              "      <td>0.0</td>\n",
              "      <td>...</td>\n",
              "      <td>12.0</td>\n",
              "      <td>0.0</td>\n",
              "      <td>0.0</td>\n",
              "      <td>0.0</td>\n",
              "      <td>2.0</td>\n",
              "      <td>13.0</td>\n",
              "      <td>16.0</td>\n",
              "      <td>14.0</td>\n",
              "      <td>4.0</td>\n",
              "      <td>0.0</td>\n",
              "    </tr>\n",
              "    <tr>\n",
              "      <th>814</th>\n",
              "      <td>0.0</td>\n",
              "      <td>0.0</td>\n",
              "      <td>2.0</td>\n",
              "      <td>12.0</td>\n",
              "      <td>14.0</td>\n",
              "      <td>8.0</td>\n",
              "      <td>0.0</td>\n",
              "      <td>0.0</td>\n",
              "      <td>0.0</td>\n",
              "      <td>0.0</td>\n",
              "      <td>...</td>\n",
              "      <td>4.0</td>\n",
              "      <td>0.0</td>\n",
              "      <td>0.0</td>\n",
              "      <td>0.0</td>\n",
              "      <td>1.0</td>\n",
              "      <td>12.0</td>\n",
              "      <td>16.0</td>\n",
              "      <td>11.0</td>\n",
              "      <td>0.0</td>\n",
              "      <td>0.0</td>\n",
              "    </tr>\n",
              "    <tr>\n",
              "      <th>1704</th>\n",
              "      <td>0.0</td>\n",
              "      <td>0.0</td>\n",
              "      <td>12.0</td>\n",
              "      <td>16.0</td>\n",
              "      <td>14.0</td>\n",
              "      <td>8.0</td>\n",
              "      <td>0.0</td>\n",
              "      <td>0.0</td>\n",
              "      <td>0.0</td>\n",
              "      <td>7.0</td>\n",
              "      <td>...</td>\n",
              "      <td>1.0</td>\n",
              "      <td>0.0</td>\n",
              "      <td>0.0</td>\n",
              "      <td>1.0</td>\n",
              "      <td>9.0</td>\n",
              "      <td>16.0</td>\n",
              "      <td>14.0</td>\n",
              "      <td>3.0</td>\n",
              "      <td>0.0</td>\n",
              "      <td>0.0</td>\n",
              "    </tr>\n",
              "  </tbody>\n",
              "</table>\n",
              "<p>3 rows × 64 columns</p>\n",
              "</div>\n",
              "    <div class=\"colab-df-buttons\">\n",
              "\n",
              "  <div class=\"colab-df-container\">\n",
              "    <button class=\"colab-df-convert\" onclick=\"convertToInteractive('df-7f845f24-424b-494c-b084-7ea4565dfc62')\"\n",
              "            title=\"Convert this dataframe to an interactive table.\"\n",
              "            style=\"display:none;\">\n",
              "\n",
              "  <svg xmlns=\"http://www.w3.org/2000/svg\" height=\"24px\" viewBox=\"0 -960 960 960\">\n",
              "    <path d=\"M120-120v-720h720v720H120Zm60-500h600v-160H180v160Zm220 220h160v-160H400v160Zm0 220h160v-160H400v160ZM180-400h160v-160H180v160Zm440 0h160v-160H620v160ZM180-180h160v-160H180v160Zm440 0h160v-160H620v160Z\"/>\n",
              "  </svg>\n",
              "    </button>\n",
              "\n",
              "  <style>\n",
              "    .colab-df-container {\n",
              "      display:flex;\n",
              "      gap: 12px;\n",
              "    }\n",
              "\n",
              "    .colab-df-convert {\n",
              "      background-color: #E8F0FE;\n",
              "      border: none;\n",
              "      border-radius: 50%;\n",
              "      cursor: pointer;\n",
              "      display: none;\n",
              "      fill: #1967D2;\n",
              "      height: 32px;\n",
              "      padding: 0 0 0 0;\n",
              "      width: 32px;\n",
              "    }\n",
              "\n",
              "    .colab-df-convert:hover {\n",
              "      background-color: #E2EBFA;\n",
              "      box-shadow: 0px 1px 2px rgba(60, 64, 67, 0.3), 0px 1px 3px 1px rgba(60, 64, 67, 0.15);\n",
              "      fill: #174EA6;\n",
              "    }\n",
              "\n",
              "    .colab-df-buttons div {\n",
              "      margin-bottom: 4px;\n",
              "    }\n",
              "\n",
              "    [theme=dark] .colab-df-convert {\n",
              "      background-color: #3B4455;\n",
              "      fill: #D2E3FC;\n",
              "    }\n",
              "\n",
              "    [theme=dark] .colab-df-convert:hover {\n",
              "      background-color: #434B5C;\n",
              "      box-shadow: 0px 1px 3px 1px rgba(0, 0, 0, 0.15);\n",
              "      filter: drop-shadow(0px 1px 2px rgba(0, 0, 0, 0.3));\n",
              "      fill: #FFFFFF;\n",
              "    }\n",
              "  </style>\n",
              "\n",
              "    <script>\n",
              "      const buttonEl =\n",
              "        document.querySelector('#df-7f845f24-424b-494c-b084-7ea4565dfc62 button.colab-df-convert');\n",
              "      buttonEl.style.display =\n",
              "        google.colab.kernel.accessAllowed ? 'block' : 'none';\n",
              "\n",
              "      async function convertToInteractive(key) {\n",
              "        const element = document.querySelector('#df-7f845f24-424b-494c-b084-7ea4565dfc62');\n",
              "        const dataTable =\n",
              "          await google.colab.kernel.invokeFunction('convertToInteractive',\n",
              "                                                    [key], {});\n",
              "        if (!dataTable) return;\n",
              "\n",
              "        const docLinkHtml = 'Like what you see? Visit the ' +\n",
              "          '<a target=\"_blank\" href=https://colab.research.google.com/notebooks/data_table.ipynb>data table notebook</a>'\n",
              "          + ' to learn more about interactive tables.';\n",
              "        element.innerHTML = '';\n",
              "        dataTable['output_type'] = 'display_data';\n",
              "        await google.colab.output.renderOutput(dataTable, element);\n",
              "        const docLink = document.createElement('div');\n",
              "        docLink.innerHTML = docLinkHtml;\n",
              "        element.appendChild(docLink);\n",
              "      }\n",
              "    </script>\n",
              "  </div>\n",
              "\n",
              "\n",
              "<div id=\"df-7872381d-5572-4495-9fa4-b021b1c2806e\">\n",
              "  <button class=\"colab-df-quickchart\" onclick=\"quickchart('df-7872381d-5572-4495-9fa4-b021b1c2806e')\"\n",
              "            title=\"Suggest charts\"\n",
              "            style=\"display:none;\">\n",
              "\n",
              "<svg xmlns=\"http://www.w3.org/2000/svg\" height=\"24px\"viewBox=\"0 0 24 24\"\n",
              "     width=\"24px\">\n",
              "    <g>\n",
              "        <path d=\"M19 3H5c-1.1 0-2 .9-2 2v14c0 1.1.9 2 2 2h14c1.1 0 2-.9 2-2V5c0-1.1-.9-2-2-2zM9 17H7v-7h2v7zm4 0h-2V7h2v10zm4 0h-2v-4h2v4z\"/>\n",
              "    </g>\n",
              "</svg>\n",
              "  </button>\n",
              "\n",
              "<style>\n",
              "  .colab-df-quickchart {\n",
              "      --bg-color: #E8F0FE;\n",
              "      --fill-color: #1967D2;\n",
              "      --hover-bg-color: #E2EBFA;\n",
              "      --hover-fill-color: #174EA6;\n",
              "      --disabled-fill-color: #AAA;\n",
              "      --disabled-bg-color: #DDD;\n",
              "  }\n",
              "\n",
              "  [theme=dark] .colab-df-quickchart {\n",
              "      --bg-color: #3B4455;\n",
              "      --fill-color: #D2E3FC;\n",
              "      --hover-bg-color: #434B5C;\n",
              "      --hover-fill-color: #FFFFFF;\n",
              "      --disabled-bg-color: #3B4455;\n",
              "      --disabled-fill-color: #666;\n",
              "  }\n",
              "\n",
              "  .colab-df-quickchart {\n",
              "    background-color: var(--bg-color);\n",
              "    border: none;\n",
              "    border-radius: 50%;\n",
              "    cursor: pointer;\n",
              "    display: none;\n",
              "    fill: var(--fill-color);\n",
              "    height: 32px;\n",
              "    padding: 0;\n",
              "    width: 32px;\n",
              "  }\n",
              "\n",
              "  .colab-df-quickchart:hover {\n",
              "    background-color: var(--hover-bg-color);\n",
              "    box-shadow: 0 1px 2px rgba(60, 64, 67, 0.3), 0 1px 3px 1px rgba(60, 64, 67, 0.15);\n",
              "    fill: var(--button-hover-fill-color);\n",
              "  }\n",
              "\n",
              "  .colab-df-quickchart-complete:disabled,\n",
              "  .colab-df-quickchart-complete:disabled:hover {\n",
              "    background-color: var(--disabled-bg-color);\n",
              "    fill: var(--disabled-fill-color);\n",
              "    box-shadow: none;\n",
              "  }\n",
              "\n",
              "  .colab-df-spinner {\n",
              "    border: 2px solid var(--fill-color);\n",
              "    border-color: transparent;\n",
              "    border-bottom-color: var(--fill-color);\n",
              "    animation:\n",
              "      spin 1s steps(1) infinite;\n",
              "  }\n",
              "\n",
              "  @keyframes spin {\n",
              "    0% {\n",
              "      border-color: transparent;\n",
              "      border-bottom-color: var(--fill-color);\n",
              "      border-left-color: var(--fill-color);\n",
              "    }\n",
              "    20% {\n",
              "      border-color: transparent;\n",
              "      border-left-color: var(--fill-color);\n",
              "      border-top-color: var(--fill-color);\n",
              "    }\n",
              "    30% {\n",
              "      border-color: transparent;\n",
              "      border-left-color: var(--fill-color);\n",
              "      border-top-color: var(--fill-color);\n",
              "      border-right-color: var(--fill-color);\n",
              "    }\n",
              "    40% {\n",
              "      border-color: transparent;\n",
              "      border-right-color: var(--fill-color);\n",
              "      border-top-color: var(--fill-color);\n",
              "    }\n",
              "    60% {\n",
              "      border-color: transparent;\n",
              "      border-right-color: var(--fill-color);\n",
              "    }\n",
              "    80% {\n",
              "      border-color: transparent;\n",
              "      border-right-color: var(--fill-color);\n",
              "      border-bottom-color: var(--fill-color);\n",
              "    }\n",
              "    90% {\n",
              "      border-color: transparent;\n",
              "      border-bottom-color: var(--fill-color);\n",
              "    }\n",
              "  }\n",
              "</style>\n",
              "\n",
              "  <script>\n",
              "    async function quickchart(key) {\n",
              "      const quickchartButtonEl =\n",
              "        document.querySelector('#' + key + ' button');\n",
              "      quickchartButtonEl.disabled = true;  // To prevent multiple clicks.\n",
              "      quickchartButtonEl.classList.add('colab-df-spinner');\n",
              "      try {\n",
              "        const charts = await google.colab.kernel.invokeFunction(\n",
              "            'suggestCharts', [key], {});\n",
              "      } catch (error) {\n",
              "        console.error('Error during call to suggestCharts:', error);\n",
              "      }\n",
              "      quickchartButtonEl.classList.remove('colab-df-spinner');\n",
              "      quickchartButtonEl.classList.add('colab-df-quickchart-complete');\n",
              "    }\n",
              "    (() => {\n",
              "      let quickchartButtonEl =\n",
              "        document.querySelector('#df-7872381d-5572-4495-9fa4-b021b1c2806e button');\n",
              "      quickchartButtonEl.style.display =\n",
              "        google.colab.kernel.accessAllowed ? 'block' : 'none';\n",
              "    })();\n",
              "  </script>\n",
              "</div>\n",
              "\n",
              "    </div>\n",
              "  </div>\n"
            ],
            "application/vnd.google.colaboratory.intrinsic+json": {
              "type": "dataframe"
            }
          },
          "metadata": {},
          "execution_count": 23
        }
      ]
    },
    {
      "cell_type": "markdown",
      "source": [
        "## Splitting the dataset into train and test"
      ],
      "metadata": {
        "id": "3m_p0g8AgTbX"
      }
    },
    {
      "cell_type": "code",
      "source": [
        "y = dataset.target\n",
        "print(y.shape)"
      ],
      "metadata": {
        "colab": {
          "base_uri": "https://localhost:8080/"
        },
        "id": "hZ4ONcUPhSXT",
        "outputId": "c48ab308-9d6c-4dff-9655-5fea2168b1ec"
      },
      "execution_count": 33,
      "outputs": [
        {
          "output_type": "stream",
          "name": "stdout",
          "text": [
            "(1797,)\n"
          ]
        }
      ]
    },
    {
      "cell_type": "code",
      "source": [
        "X_train, X_test, y_train, y_test = train_test_split(df, y, test_size=0.2, random_state=42)\n"
      ],
      "metadata": {
        "id": "3zzk9QewgSEg"
      },
      "execution_count": 38,
      "outputs": []
    },
    {
      "cell_type": "markdown",
      "source": [
        "### Scaling the features"
      ],
      "metadata": {
        "id": "1tp2B3lyhZ1J"
      }
    },
    {
      "cell_type": "code",
      "source": [
        "scaler = StandardScaler()\n",
        "\n",
        "X_train_scaled = scaler.fit_transform(X_train)\n",
        "X_test_scaled = scaler.transform(X_test)"
      ],
      "metadata": {
        "id": "KEl71v-phYV3"
      },
      "execution_count": 42,
      "outputs": []
    },
    {
      "cell_type": "markdown",
      "source": [
        "### Modelling"
      ],
      "metadata": {
        "id": "bfIZbbPvhv8b"
      }
    },
    {
      "cell_type": "code",
      "source": [
        "model = LogisticRegression()\n",
        "model.fit(X_train_scaled, y_train)\n",
        "model.score(X_test_scaled, y_test)"
      ],
      "metadata": {
        "colab": {
          "base_uri": "https://localhost:8080/"
        },
        "id": "TVUJJAp8hvvu",
        "outputId": "9cecb4c6-6b36-415f-f237-a6a557695b9c"
      },
      "execution_count": 43,
      "outputs": [
        {
          "output_type": "execute_result",
          "data": {
            "text/plain": [
              "0.9722222222222222"
            ]
          },
          "metadata": {},
          "execution_count": 43
        }
      ]
    },
    {
      "cell_type": "markdown",
      "source": [
        "## Dataset Compression using PCA\n",
        "\n",
        "- For initializing we can give `n_components` or\n",
        "\n",
        "- we can give the `n_components` in percentage value that means that we are saying PCA model to retain features that explains 95% of the dataset"
      ],
      "metadata": {
        "id": "iWsktZ_3h9y8"
      }
    },
    {
      "cell_type": "code",
      "source": [
        "pca = PCA(n_components=0.95)\n",
        "df_pca = pca.fit_transform(df)\n",
        "print(df_pca.shape)"
      ],
      "metadata": {
        "colab": {
          "base_uri": "https://localhost:8080/"
        },
        "id": "ePmkttruiBPi",
        "outputId": "4c9c64c9-cb17-4947-87c5-7eaccd6e659e"
      },
      "execution_count": 47,
      "outputs": [
        {
          "output_type": "stream",
          "name": "stdout",
          "text": [
            "(1797, 29)\n"
          ]
        }
      ]
    },
    {
      "cell_type": "markdown",
      "source": [
        "We can see that from the original dataset which was having 64 features, now we have 29 features only after compressing using PCA"
      ],
      "metadata": {
        "id": "K3exVcswjbIu"
      }
    },
    {
      "cell_type": "code",
      "source": [
        "print(f\"Reduction of {(df.shape[1] - df_pca.shape[1])/df.shape[1]*100:.2f} % features\")"
      ],
      "metadata": {
        "colab": {
          "base_uri": "https://localhost:8080/"
        },
        "id": "9K882nVlkclP",
        "outputId": "15f132b5-5b0a-468c-809b-d75bb7ef55a8"
      },
      "execution_count": 67,
      "outputs": [
        {
          "output_type": "stream",
          "name": "stdout",
          "text": [
            "Reduction of 54.69 % features\n"
          ]
        }
      ]
    },
    {
      "cell_type": "code",
      "source": [
        "print(\"Printing the first 5 rows and first 5 columns\")\n",
        "print(df_pca[0:5,:5])"
      ],
      "metadata": {
        "colab": {
          "base_uri": "https://localhost:8080/"
        },
        "id": "CMFVlctdjIXe",
        "outputId": "a3cc5098-3420-4825-d486-992a364c1c6f"
      },
      "execution_count": 54,
      "outputs": [
        {
          "output_type": "stream",
          "name": "stdout",
          "text": [
            "Printing the first 5 rows and first 5 columns\n",
            "[[ -1.25946645 -21.27488348   9.46305462 -13.01418869   7.12882278]\n",
            " [  7.9576113   20.76869896  -4.43950604  14.89366444  -5.89624878]\n",
            " [  6.99192297   9.95598641  -2.95855808  12.28830243  18.1260233 ]\n",
            " [-15.90610526  -3.33246429  -9.82437176  12.27583834  -6.96516946]\n",
            " [ 23.30686741  -4.26906083   5.67512857  13.85152412   0.35812369]]\n"
          ]
        }
      ]
    },
    {
      "cell_type": "markdown",
      "source": [
        "## Split the dataset"
      ],
      "metadata": {
        "id": "S-XZD5EGjrYU"
      }
    },
    {
      "cell_type": "code",
      "source": [
        "X_train_pca, X_test_pca, y_train, y_test = train_test_split(df_pca, y, test_size=0.2, random_state=42)"
      ],
      "metadata": {
        "id": "Zmojcqc_jxu0"
      },
      "execution_count": 57,
      "outputs": []
    },
    {
      "cell_type": "markdown",
      "source": [
        "### Scaling the features"
      ],
      "metadata": {
        "id": "qEVO29k6j1C8"
      }
    },
    {
      "cell_type": "code",
      "source": [
        "scaler = StandardScaler()\n",
        "\n",
        "X_train_scaled_pca = scaler.fit_transform(X_train_pca)\n",
        "X_test_scaled_pca = scaler.transform(X_test_pca)"
      ],
      "metadata": {
        "id": "0IxDvBEOj2lG"
      },
      "execution_count": 60,
      "outputs": []
    },
    {
      "cell_type": "markdown",
      "source": [
        "## Modelling and Evaluating"
      ],
      "metadata": {
        "id": "ZFTMabl9kAJX"
      }
    },
    {
      "cell_type": "code",
      "source": [
        "model = LogisticRegression()\n",
        "model.fit(X_train_scaled_pca, y_train)\n",
        "model.score(X_test_scaled_pca, y_test)"
      ],
      "metadata": {
        "colab": {
          "base_uri": "https://localhost:8080/"
        },
        "id": "3wau7tM6jkt2",
        "outputId": "67bfa902-fd84-41ac-b67f-143e124a6bc0"
      },
      "execution_count": 61,
      "outputs": [
        {
          "output_type": "execute_result",
          "data": {
            "text/plain": [
              "0.9666666666666667"
            ]
          },
          "metadata": {},
          "execution_count": 61
        }
      ]
    },
    {
      "cell_type": "markdown",
      "source": [
        "So after removing 54% data, we are having almost the same accuracy."
      ],
      "metadata": {
        "id": "oj0l19T6kUtN"
      }
    },
    {
      "cell_type": "markdown",
      "source": [
        "## Conclusion\n",
        "\n",
        "PCA helps in data compression by reducing the number of features while retaining the most important information. For image compression, PCA transforms the image data into a smaller set of principal components, making it more efficient to store and faster to train CNN models. This reduces computational cost and helps prevent overfitting.\n",
        "\n",
        "\n",
        "## Applications of Principal Component Analysis (PCA)\n",
        "\n",
        "1. **Image Compression**: PCA reduces the dimensionality of image data, making it easier to store and process, which is particularly useful for training machine learning models like CNNs.\n",
        "\n",
        "2. **Facial Recognition**: PCA is used to identify and extract key features from facial images, improving the accuracy and efficiency of facial recognition systems.\n",
        "\n",
        "3. **Neuroscience**: PCA helps in analyzing neural data by identifying patterns and reducing the complexity of large datasets, such as in spike-triggered covariance analysis.\n",
        "\n",
        "4. **Quantitative Finance**: PCA is used to reduce the dimensionality of financial data, making it easier to analyze and model complex financial systems.\n",
        "\n",
        "5. **Medical Data Analysis**: PCA assists in correlating and interpreting large medical datasets, helping in the identification of significant patterns and trends.\n",
        "\n",
        "6. **Simplifying Complex Datasets**: PCA transforms high-dimensional data into a lower-dimensional form, simplifying the dataset while retaining the most important information. This makes it easier to work with and analyze.\n",
        "\n",
        "7. **Data Visualization**: By reducing the number of dimensions, PCA allows for better visualization of data in 2D or 3D plots, making it easier to interpret and understand the underlying patterns and relationships."
      ],
      "metadata": {
        "id": "WyAag8iElFf7"
      }
    }
  ]
}