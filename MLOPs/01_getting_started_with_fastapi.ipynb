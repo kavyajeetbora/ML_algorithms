{
  "nbformat": 4,
  "nbformat_minor": 0,
  "metadata": {
    "colab": {
      "provenance": [],
      "authorship_tag": "ABX9TyMU4Qj82+76D1Co3ZPmNrcO",
      "include_colab_link": true
    },
    "kernelspec": {
      "name": "python3",
      "display_name": "Python 3"
    },
    "language_info": {
      "name": "python"
    }
  },
  "cells": [
    {
      "cell_type": "markdown",
      "metadata": {
        "id": "view-in-github",
        "colab_type": "text"
      },
      "source": [
        "<a href=\"https://colab.research.google.com/github/kavyajeetbora/ML_algorithms/blob/master/MLOPs/01_getting_started_with_fastapi.ipynb\" target=\"_parent\"><img src=\"https://colab.research.google.com/assets/colab-badge.svg\" alt=\"Open In Colab\"/></a>"
      ]
    },
    {
      "cell_type": "markdown",
      "source": [
        "## Set up the Environment"
      ],
      "metadata": {
        "id": "q-6lT_DcYvvu"
      }
    },
    {
      "cell_type": "code",
      "execution_count": 11,
      "metadata": {
        "id": "27sZlvaAXiSV"
      },
      "outputs": [],
      "source": [
        "!pip install -q pyngrok fastapi uvicorn python-dotenv nest-asyncio"
      ]
    },
    {
      "cell_type": "code",
      "source": [
        "from dotenv import load_dotenv\n",
        "from fastapi import FastAPI\n",
        "import nest_asyncio\n",
        "import uvicorn\n",
        "from pyngrok import ngrok"
      ],
      "metadata": {
        "id": "7n2s-1G3XqyL"
      },
      "execution_count": 13,
      "outputs": []
    },
    {
      "cell_type": "markdown",
      "source": [
        "## Load the environment Variables\n",
        "\n",
        "We need to set the API key then only we are able to use ngrok to serve our application in a public url\n",
        "\n",
        "To do so:\n",
        "1. Copy the API key from the ngrok website after signing up:\n",
        "\n",
        "    <img src=\"https://twilio-cms-prod.s3.amazonaws.com/images/2jGSWypOgN1MeEBHwXVGvb_628zSlHvLdDyHtWvpqHfYSm.width-500.png\" height=500/>\n",
        "\n",
        "2. The set the `NGROK_AUTHTOKEN` api key using this command:\n",
        "    ```\n",
        "    ngrok config add-authtoken YOUR_API_KEY\n",
        "    ```\n",
        "\n",
        "3. Alternatively you can store your `API-key` in `.env`, for example:\n",
        "    \n",
        "    <img src=\"https://media.geeksforgeeks.org/wp-content/uploads/20240124121719/env-file-key-pair.webp\" height=300/>\n",
        "\n",
        "    Just make the variable name should be `NGROK_AUTHTOKEN`"
      ],
      "metadata": {
        "id": "zX2LAOVRYz8y"
      }
    },
    {
      "cell_type": "code",
      "source": [
        "load_dotenv()"
      ],
      "metadata": {
        "colab": {
          "base_uri": "https://localhost:8080/"
        },
        "id": "xNTJive7X_Pm",
        "outputId": "92e5aef3-86da-40dd-806c-1072c7e99059"
      },
      "execution_count": 8,
      "outputs": [
        {
          "output_type": "execute_result",
          "data": {
            "text/plain": [
              "True"
            ]
          },
          "metadata": {},
          "execution_count": 8
        }
      ]
    },
    {
      "cell_type": "markdown",
      "source": [
        "## Create the application"
      ],
      "metadata": {
        "id": "Qj5vq0AXal8n"
      }
    },
    {
      "cell_type": "code",
      "source": [
        "app = FastAPI()\n",
        "\n",
        "@app.get('/')\n",
        "def index():\n",
        "    return {'message': 'Welcome to the LLAMA Question Answering API!'}"
      ],
      "metadata": {
        "id": "KV6OWI5XYHSN"
      },
      "execution_count": 10,
      "outputs": []
    },
    {
      "cell_type": "markdown",
      "source": [
        "## Deploy the application to a public url"
      ],
      "metadata": {
        "id": "tkCJgLQBaoT1"
      }
    },
    {
      "cell_type": "code",
      "source": [
        "# Set up the FastAPI app to run on a public URL via ngrok\n",
        "port = 8004\n",
        "ngrok_tunnel = ngrok.connect(port)\n",
        "print(f\"Public URL: {ngrok_tunnel.public_url}\")\n",
        "\n",
        "nest_asyncio.apply()\n",
        "uvicorn.run(app, port=port)"
      ],
      "metadata": {
        "colab": {
          "base_uri": "https://localhost:8080/"
        },
        "id": "p58cHRGQYReN",
        "outputId": "59d777b5-0fb6-4f4a-b058-762fa2e327be"
      },
      "execution_count": 14,
      "outputs": [
        {
          "output_type": "stream",
          "name": "stdout",
          "text": [
            "Public URL: https://0871-34-41-138-15.ngrok-free.app\n"
          ]
        },
        {
          "output_type": "stream",
          "name": "stderr",
          "text": [
            "INFO:     Started server process [516]\n",
            "INFO:     Waiting for application startup.\n",
            "INFO:     Application startup complete.\n",
            "INFO:     Uvicorn running on http://127.0.0.1:8004 (Press CTRL+C to quit)\n"
          ]
        },
        {
          "output_type": "stream",
          "name": "stdout",
          "text": [
            "INFO:     103.227.71.20:0 - \"GET / HTTP/1.1\" 200 OK\n",
            "INFO:     103.227.71.20:0 - \"GET /favicon.ico HTTP/1.1\" 404 Not Found\n"
          ]
        },
        {
          "output_type": "stream",
          "name": "stderr",
          "text": [
            "INFO:     Shutting down\n",
            "INFO:     Waiting for application shutdown.\n",
            "INFO:     Application shutdown complete.\n",
            "INFO:     Finished server process [516]\n"
          ]
        }
      ]
    }
  ]
}